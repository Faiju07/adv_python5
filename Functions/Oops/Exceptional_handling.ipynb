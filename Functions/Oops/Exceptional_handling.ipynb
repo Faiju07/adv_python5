{
 "cells": [
  {
   "cell_type": "markdown",
   "id": "5811cd0c",
   "metadata": {},
   "source": [
    "#### Exceptional Handling"
   ]
  },
  {
   "cell_type": "code",
   "execution_count": 1,
   "id": "180fa88a",
   "metadata": {},
   "outputs": [
    {
     "data": {
      "text/plain": [
       "0.7647058823529411"
      ]
     },
     "execution_count": 1,
     "metadata": {},
     "output_type": "execute_result"
    }
   ],
   "source": [
    "26/34"
   ]
  },
  {
   "cell_type": "code",
   "execution_count": 2,
   "id": "b5a1b696",
   "metadata": {},
   "outputs": [
    {
     "ename": "ZeroDivisionError",
     "evalue": "division by zero",
     "output_type": "error",
     "traceback": [
      "\u001b[31m---------------------------------------------------------------------------\u001b[39m",
      "\u001b[31mZeroDivisionError\u001b[39m                         Traceback (most recent call last)",
      "\u001b[36mCell\u001b[39m\u001b[36m \u001b[39m\u001b[32mIn[2]\u001b[39m\u001b[32m, line 1\u001b[39m\n\u001b[32m----> \u001b[39m\u001b[32m1\u001b[39m \u001b[32;43m23\u001b[39;49m\u001b[43m/\u001b[49m\u001b[32;43m0\u001b[39;49m\n",
      "\u001b[31mZeroDivisionError\u001b[39m: division by zero"
     ]
    }
   ],
   "source": [
    "23/0"
   ]
  },
  {
   "cell_type": "markdown",
   "id": "c93dfe24",
   "metadata": {},
   "source": [
    "#### Define Function For Division of Two Numbers"
   ]
  },
  {
   "cell_type": "code",
   "execution_count": 3,
   "id": "00160684",
   "metadata": {},
   "outputs": [],
   "source": [
    "def Division():\n",
    "    num = float(input())\n",
    "    den = float(input())\n",
    "    div = num/den\n",
    "    print(f'division is between {num} and {den}')\n",
    "    return div"
   ]
  },
  {
   "cell_type": "code",
   "execution_count": 5,
   "id": "f6119656",
   "metadata": {},
   "outputs": [
    {
     "ename": "ValueError",
     "evalue": "could not convert string to float: '35.0/5.0'",
     "output_type": "error",
     "traceback": [
      "\u001b[31m---------------------------------------------------------------------------\u001b[39m",
      "\u001b[31mValueError\u001b[39m                                Traceback (most recent call last)",
      "\u001b[36mCell\u001b[39m\u001b[36m \u001b[39m\u001b[32mIn[5]\u001b[39m\u001b[32m, line 1\u001b[39m\n\u001b[32m----> \u001b[39m\u001b[32m1\u001b[39m \u001b[43mDivision\u001b[49m\u001b[43m(\u001b[49m\u001b[43m)\u001b[49m\n",
      "\u001b[36mCell\u001b[39m\u001b[36m \u001b[39m\u001b[32mIn[3]\u001b[39m\u001b[32m, line 2\u001b[39m, in \u001b[36mDivision\u001b[39m\u001b[34m()\u001b[39m\n\u001b[32m      1\u001b[39m \u001b[38;5;28;01mdef\u001b[39;00m\u001b[38;5;250m \u001b[39m\u001b[34mDivision\u001b[39m():\n\u001b[32m----> \u001b[39m\u001b[32m2\u001b[39m     num = \u001b[38;5;28;43mfloat\u001b[39;49m\u001b[43m(\u001b[49m\u001b[38;5;28;43minput\u001b[39;49m\u001b[43m(\u001b[49m\u001b[43m)\u001b[49m\u001b[43m)\u001b[49m\n\u001b[32m      3\u001b[39m     den = \u001b[38;5;28mfloat\u001b[39m(\u001b[38;5;28minput\u001b[39m())\n\u001b[32m      4\u001b[39m     div = num/den\n",
      "\u001b[31mValueError\u001b[39m: could not convert string to float: '35.0/5.0'"
     ]
    }
   ],
   "source": [
    "Division()"
   ]
  },
  {
   "cell_type": "code",
   "execution_count": 6,
   "id": "ca415b26",
   "metadata": {},
   "outputs": [
    {
     "name": "stdout",
     "output_type": "stream",
     "text": [
      "division is between 35.0 and 5.0\n"
     ]
    },
    {
     "data": {
      "text/plain": [
       "7.0"
      ]
     },
     "execution_count": 6,
     "metadata": {},
     "output_type": "execute_result"
    }
   ],
   "source": [
    "Division()"
   ]
  },
  {
   "cell_type": "markdown",
   "id": "e035c36a",
   "metadata": {},
   "source": [
    "#### Use Try & Except"
   ]
  },
  {
   "cell_type": "code",
   "execution_count": 10,
   "id": "fb336e6b",
   "metadata": {},
   "outputs": [],
   "source": [
    "def Division():\n",
    "    try:\n",
    "        num = float(input())\n",
    "        den = float(input())\n",
    "        div = num/den\n",
    "        print(f'division is between {num} and {den}')\n",
    "        return div\n",
    "    except Exception as e:\n",
    "        print('Exception occured', e)"
   ]
  },
  {
   "cell_type": "code",
   "execution_count": 11,
   "id": "27253780",
   "metadata": {},
   "outputs": [
    {
     "name": "stdout",
     "output_type": "stream",
     "text": [
      "Exception occured float division by zero\n"
     ]
    }
   ],
   "source": [
    "Division()"
   ]
  },
  {
   "cell_type": "code",
   "execution_count": null,
   "id": "1da6584c",
   "metadata": {},
   "outputs": [],
   "source": []
  },
  {
   "cell_type": "code",
   "execution_count": null,
   "id": "b9015d12",
   "metadata": {},
   "outputs": [],
   "source": []
  },
  {
   "cell_type": "code",
   "execution_count": null,
   "id": "42e12b8f",
   "metadata": {},
   "outputs": [],
   "source": []
  },
  {
   "cell_type": "code",
   "execution_count": null,
   "id": "8dfbe422",
   "metadata": {},
   "outputs": [],
   "source": []
  },
  {
   "cell_type": "code",
   "execution_count": null,
   "id": "383c3e66",
   "metadata": {},
   "outputs": [],
   "source": []
  },
  {
   "cell_type": "code",
   "execution_count": null,
   "id": "3be33cdf",
   "metadata": {},
   "outputs": [],
   "source": []
  },
  {
   "cell_type": "code",
   "execution_count": null,
   "id": "057b473d",
   "metadata": {},
   "outputs": [],
   "source": []
  },
  {
   "cell_type": "code",
   "execution_count": null,
   "id": "3aca6122",
   "metadata": {},
   "outputs": [],
   "source": []
  },
  {
   "cell_type": "code",
   "execution_count": null,
   "id": "7be16819",
   "metadata": {},
   "outputs": [],
   "source": []
  }
 ],
 "metadata": {
  "kernelspec": {
   "display_name": "venv",
   "language": "python",
   "name": "python3"
  },
  "language_info": {
   "codemirror_mode": {
    "name": "ipython",
    "version": 3
   },
   "file_extension": ".py",
   "mimetype": "text/x-python",
   "name": "python",
   "nbconvert_exporter": "python",
   "pygments_lexer": "ipython3",
   "version": "3.13.3"
  }
 },
 "nbformat": 4,
 "nbformat_minor": 5
}
