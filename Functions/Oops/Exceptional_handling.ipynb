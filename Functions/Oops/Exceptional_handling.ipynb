{
 "cells": [
  {
   "cell_type": "markdown",
   "id": "5811cd0c",
   "metadata": {},
   "source": [
    "#### Exceptional Handling"
   ]
  },
  {
   "cell_type": "code",
   "execution_count": 1,
   "id": "180fa88a",
   "metadata": {},
   "outputs": [
    {
     "data": {
      "text/plain": [
       "0.7647058823529411"
      ]
     },
     "execution_count": 1,
     "metadata": {},
     "output_type": "execute_result"
    }
   ],
   "source": [
    "26/34"
   ]
  },
  {
   "cell_type": "code",
   "execution_count": 2,
   "id": "b5a1b696",
   "metadata": {},
   "outputs": [
    {
     "ename": "ZeroDivisionError",
     "evalue": "division by zero",
     "output_type": "error",
     "traceback": [
      "\u001b[31m---------------------------------------------------------------------------\u001b[39m",
      "\u001b[31mZeroDivisionError\u001b[39m                         Traceback (most recent call last)",
      "\u001b[36mCell\u001b[39m\u001b[36m \u001b[39m\u001b[32mIn[2]\u001b[39m\u001b[32m, line 1\u001b[39m\n\u001b[32m----> \u001b[39m\u001b[32m1\u001b[39m \u001b[32;43m23\u001b[39;49m\u001b[43m/\u001b[49m\u001b[32;43m0\u001b[39;49m\n",
      "\u001b[31mZeroDivisionError\u001b[39m: division by zero"
     ]
    }
   ],
   "source": [
    "23/0"
   ]
  },
  {
   "cell_type": "markdown",
   "id": "c93dfe24",
   "metadata": {},
   "source": [
    "#### Define Function For Division of Two Numbers"
   ]
  },
  {
   "cell_type": "code",
   "execution_count": 3,
   "id": "00160684",
   "metadata": {},
   "outputs": [],
   "source": [
    "def Division():\n",
    "    num = float(input())\n",
    "    den = float(input())\n",
    "    div = num/den\n",
    "    print(f'division is between {num} and {den}')\n",
    "    return div"
   ]
  },
  {
   "cell_type": "code",
   "execution_count": 5,
   "id": "f6119656",
   "metadata": {},
   "outputs": [
    {
     "ename": "ValueError",
     "evalue": "could not convert string to float: '35.0/5.0'",
     "output_type": "error",
     "traceback": [
      "\u001b[31m---------------------------------------------------------------------------\u001b[39m",
      "\u001b[31mValueError\u001b[39m                                Traceback (most recent call last)",
      "\u001b[36mCell\u001b[39m\u001b[36m \u001b[39m\u001b[32mIn[5]\u001b[39m\u001b[32m, line 1\u001b[39m\n\u001b[32m----> \u001b[39m\u001b[32m1\u001b[39m \u001b[43mDivision\u001b[49m\u001b[43m(\u001b[49m\u001b[43m)\u001b[49m\n",
      "\u001b[36mCell\u001b[39m\u001b[36m \u001b[39m\u001b[32mIn[3]\u001b[39m\u001b[32m, line 2\u001b[39m, in \u001b[36mDivision\u001b[39m\u001b[34m()\u001b[39m\n\u001b[32m      1\u001b[39m \u001b[38;5;28;01mdef\u001b[39;00m\u001b[38;5;250m \u001b[39m\u001b[34mDivision\u001b[39m():\n\u001b[32m----> \u001b[39m\u001b[32m2\u001b[39m     num = \u001b[38;5;28;43mfloat\u001b[39;49m\u001b[43m(\u001b[49m\u001b[38;5;28;43minput\u001b[39;49m\u001b[43m(\u001b[49m\u001b[43m)\u001b[49m\u001b[43m)\u001b[49m\n\u001b[32m      3\u001b[39m     den = \u001b[38;5;28mfloat\u001b[39m(\u001b[38;5;28minput\u001b[39m())\n\u001b[32m      4\u001b[39m     div = num/den\n",
      "\u001b[31mValueError\u001b[39m: could not convert string to float: '35.0/5.0'"
     ]
    }
   ],
   "source": [
    "Division()"
   ]
  },
  {
   "cell_type": "code",
   "execution_count": 6,
   "id": "ca415b26",
   "metadata": {},
   "outputs": [
    {
     "name": "stdout",
     "output_type": "stream",
     "text": [
      "division is between 35.0 and 5.0\n"
     ]
    },
    {
     "data": {
      "text/plain": [
       "7.0"
      ]
     },
     "execution_count": 6,
     "metadata": {},
     "output_type": "execute_result"
    }
   ],
   "source": [
    "Division()"
   ]
  },
  {
   "cell_type": "markdown",
   "id": "e035c36a",
   "metadata": {},
   "source": [
    "#### Use Try & Except"
   ]
  },
  {
   "cell_type": "code",
   "execution_count": 10,
   "id": "fb336e6b",
   "metadata": {},
   "outputs": [],
   "source": [
    "def Division():\n",
    "    try:\n",
    "        num = float(input())\n",
    "        den = float(input())\n",
    "        div = num/den\n",
    "        print(f'division is between {num} and {den}')\n",
    "        return div\n",
    "    except Exception as e:\n",
    "        print('Exception occured', e)"
   ]
  },
  {
   "cell_type": "code",
   "execution_count": 11,
   "id": "27253780",
   "metadata": {},
   "outputs": [
    {
     "name": "stdout",
     "output_type": "stream",
     "text": [
      "Exception occured float division by zero\n"
     ]
    }
   ],
   "source": [
    "Division()"
   ]
  },
  {
   "cell_type": "markdown",
   "id": "aa28a139",
   "metadata": {},
   "source": [
    "#### Detailed Exceptional Handling"
   ]
  },
  {
   "cell_type": "code",
   "execution_count": 7,
   "id": "1da6584c",
   "metadata": {},
   "outputs": [],
   "source": [
    "def Division3():\n",
    "    try:\n",
    "        num = float(input())\n",
    "        den = float(input())\n",
    "        div = num/den\n",
    "        print(f'This is division between {num}  and {den} --> {num}/ {den}')\n",
    "        return div\n",
    "    except ValueError:\n",
    "        print('values should not be blank or string')\n",
    "        print('Values should be int or float')\n",
    "    except ZeroDivisionError :\n",
    "        print('Denominator Should not be 0')\n",
    "    except Exception as e:\n",
    "        print(f'Exception occured : {e}')"
   ]
  },
  {
   "cell_type": "code",
   "execution_count": 8,
   "id": "b9015d12",
   "metadata": {},
   "outputs": [
    {
     "name": "stdout",
     "output_type": "stream",
     "text": [
      "This is division between 20.0  and 2.0 --> 20.0/ 2.0\n",
      "10.0\n"
     ]
    },
    {
     "data": {
      "text/plain": [
       "10.0"
      ]
     },
     "execution_count": 8,
     "metadata": {},
     "output_type": "execute_result"
    }
   ],
   "source": [
    "a = Division3()\n",
    "print(a)\n",
    "round(a,3)"
   ]
  },
  {
   "cell_type": "code",
   "execution_count": 12,
   "id": "42e12b8f",
   "metadata": {},
   "outputs": [
    {
     "name": "stdout",
     "output_type": "stream",
     "text": [
      "This is division between 55.0  and 5.0 --> 55.0/ 5.0\n"
     ]
    },
    {
     "data": {
      "text/plain": [
       "11.0"
      ]
     },
     "execution_count": 12,
     "metadata": {},
     "output_type": "execute_result"
    }
   ],
   "source": [
    "Division3()"
   ]
  },
  {
   "cell_type": "code",
   "execution_count": 13,
   "id": "8dfbe422",
   "metadata": {},
   "outputs": [
    {
     "name": "stdout",
     "output_type": "stream",
     "text": [
      "This is division between 55.0  and 5.0 --> 55.0/ 5.0\n"
     ]
    },
    {
     "data": {
      "text/plain": [
       "11.0"
      ]
     },
     "execution_count": 13,
     "metadata": {},
     "output_type": "execute_result"
    }
   ],
   "source": [
    "b = Division3()\n",
    "b"
   ]
  },
  {
   "cell_type": "markdown",
   "id": "0a63ac1b",
   "metadata": {},
   "source": [
    "#### Raise own ValueError"
   ]
  },
  {
   "cell_type": "code",
   "execution_count": null,
   "id": "383c3e66",
   "metadata": {},
   "outputs": [],
   "source": []
  },
  {
   "cell_type": "code",
   "execution_count": null,
   "id": "3be33cdf",
   "metadata": {},
   "outputs": [],
   "source": []
  },
  {
   "cell_type": "markdown",
   "id": "7ed4d213",
   "metadata": {},
   "source": [
    "- try - true\n",
    "- except - when condition is not true\n",
    "- else - when try is true\n",
    "- finally - will always execute"
   ]
  },
  {
   "cell_type": "markdown",
   "id": "aa25d4ea",
   "metadata": {},
   "source": [
    "#### Find Square Root of Number"
   ]
  },
  {
   "cell_type": "code",
   "execution_count": 14,
   "id": "0030b3fe",
   "metadata": {},
   "outputs": [],
   "source": [
    "import math"
   ]
  },
  {
   "cell_type": "code",
   "execution_count": 16,
   "id": "a86f130f",
   "metadata": {},
   "outputs": [
    {
     "data": {
      "text/plain": [
       "5.830951894845301"
      ]
     },
     "execution_count": 16,
     "metadata": {},
     "output_type": "execute_result"
    }
   ],
   "source": [
    "num1 = 34\n",
    "math.sqrt(num1)"
   ]
  },
  {
   "cell_type": "code",
   "execution_count": 17,
   "id": "057b473d",
   "metadata": {},
   "outputs": [],
   "source": [
    "\n",
    "def sqaure_root():\n",
    "    try:\n",
    "        num = float(input('please enter positive number'))\n",
    "        s = math.sqrt(num)\n",
    "\n",
    "    except Exception as e:\n",
    "        print(f'Exception occured , {e}')\n",
    "\n",
    "    else:\n",
    "        print(f'square root of {num} is {s}')\n",
    "        return s\n",
    "    finally:\n",
    "        print('Finally block will always excutes')"
   ]
  },
  {
   "cell_type": "code",
   "execution_count": 19,
   "id": "3aca6122",
   "metadata": {},
   "outputs": [
    {
     "name": "stdout",
     "output_type": "stream",
     "text": [
      "square root of 55.0 is 7.416198487095663\n",
      "Finally block will always excutes\n"
     ]
    },
    {
     "data": {
      "text/plain": [
       "7.416198487095663"
      ]
     },
     "execution_count": 19,
     "metadata": {},
     "output_type": "execute_result"
    }
   ],
   "source": [
    "num1 = sqaure_root()\n",
    "num1"
   ]
  },
  {
   "cell_type": "code",
   "execution_count": 21,
   "id": "7be16819",
   "metadata": {},
   "outputs": [
    {
     "name": "stdout",
     "output_type": "stream",
     "text": [
      "Exception occured , math domain error\n",
      "Finally block will always excutes\n"
     ]
    }
   ],
   "source": [
    "num5 = sqaure_root()\n",
    "num5"
   ]
  },
  {
   "cell_type": "code",
   "execution_count": null,
   "id": "d40d6a7b",
   "metadata": {},
   "outputs": [],
   "source": []
  },
  {
   "cell_type": "code",
   "execution_count": null,
   "id": "e7ee1722",
   "metadata": {},
   "outputs": [],
   "source": []
  },
  {
   "cell_type": "code",
   "execution_count": null,
   "id": "09f2826f",
   "metadata": {},
   "outputs": [],
   "source": []
  },
  {
   "cell_type": "code",
   "execution_count": null,
   "id": "fd41285c",
   "metadata": {},
   "outputs": [],
   "source": []
  },
  {
   "cell_type": "code",
   "execution_count": null,
   "id": "c36c365f",
   "metadata": {},
   "outputs": [],
   "source": []
  }
 ],
 "metadata": {
  "kernelspec": {
   "display_name": "venv",
   "language": "python",
   "name": "python3"
  },
  "language_info": {
   "codemirror_mode": {
    "name": "ipython",
    "version": 3
   },
   "file_extension": ".py",
   "mimetype": "text/x-python",
   "name": "python",
   "nbconvert_exporter": "python",
   "pygments_lexer": "ipython3",
   "version": "3.13.3"
  }
 },
 "nbformat": 4,
 "nbformat_minor": 5
}
