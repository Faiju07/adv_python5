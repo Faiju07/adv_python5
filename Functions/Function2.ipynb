{
 "cells": [
  {
   "cell_type": "code",
   "execution_count": 1,
   "id": "35234e15",
   "metadata": {},
   "outputs": [],
   "source": [
    "#unpacking of list"
   ]
  },
  {
   "cell_type": "code",
   "execution_count": 12,
   "id": "f4c1e0fe",
   "metadata": {},
   "outputs": [
    {
     "data": {
      "text/plain": [
       "[12, 55, 34, 45]"
      ]
     },
     "execution_count": 12,
     "metadata": {},
     "output_type": "execute_result"
    }
   ],
   "source": [
    "l1 = [12,55,34,45]\n",
    "l1"
   ]
  },
  {
   "cell_type": "code",
   "execution_count": 13,
   "id": "c49e48ff",
   "metadata": {},
   "outputs": [],
   "source": [
    "def function(*args):\n",
    "    print(args)\n",
    "    print(type(args))"
   ]
  },
  {
   "cell_type": "code",
   "execution_count": 14,
   "id": "5513b6cc",
   "metadata": {},
   "outputs": [
    {
     "name": "stdout",
     "output_type": "stream",
     "text": [
      "(22, 45, 76)\n",
      "<class 'tuple'>\n"
     ]
    }
   ],
   "source": [
    "function(22,45,76)"
   ]
  },
  {
   "cell_type": "code",
   "execution_count": 15,
   "id": "01f2e770",
   "metadata": {},
   "outputs": [
    {
     "name": "stdout",
     "output_type": "stream",
     "text": [
      "(12, 55, 34, 45)\n",
      "<class 'tuple'>\n"
     ]
    }
   ],
   "source": [
    "function(*l1)"
   ]
  },
  {
   "cell_type": "code",
   "execution_count": 16,
   "id": "7124bae9",
   "metadata": {},
   "outputs": [],
   "source": [
    "def add(l):\n",
    "    total =0\n",
    "    for i in l:\n",
    "        total = total + i\n",
    "    return total"
   ]
  },
  {
   "cell_type": "code",
   "execution_count": 17,
   "id": "97f2cf70",
   "metadata": {},
   "outputs": [
    {
     "data": {
      "text/plain": [
       "146"
      ]
     },
     "execution_count": 17,
     "metadata": {},
     "output_type": "execute_result"
    }
   ],
   "source": [
    "add(l1)"
   ]
  },
  {
   "cell_type": "code",
   "execution_count": null,
   "id": "c7d2685f",
   "metadata": {},
   "outputs": [],
   "source": []
  },
  {
   "cell_type": "markdown",
   "id": "afa4125c",
   "metadata": {},
   "source": [
    "#### **kwargs"
   ]
  },
  {
   "cell_type": "code",
   "execution_count": 18,
   "id": "b2cea09a",
   "metadata": {},
   "outputs": [],
   "source": [
    "def func(**kwargs):\n",
    "    print(kwargs)\n",
    "    print(type(kwargs))"
   ]
  },
  {
   "cell_type": "code",
   "execution_count": 19,
   "id": "5e54c1b6",
   "metadata": {},
   "outputs": [
    {
     "name": "stdout",
     "output_type": "stream",
     "text": [
      "{'name': 'Faizan', 'age': 25, 'Profession': 'Business'}\n",
      "<class 'dict'>\n"
     ]
    }
   ],
   "source": [
    "func(name = 'Faizan', age = 25, Profession= 'Business')"
   ]
  },
  {
   "cell_type": "code",
   "execution_count": 20,
   "id": "ce115ab7",
   "metadata": {},
   "outputs": [],
   "source": [
    "user = {'name' : 'smeeta' , 'age': 28, 'Education': 'MBA'}"
   ]
  },
  {
   "cell_type": "code",
   "execution_count": null,
   "id": "0e09be7a",
   "metadata": {},
   "outputs": [],
   "source": []
  },
  {
   "cell_type": "code",
   "execution_count": 21,
   "id": "57dd1cb1",
   "metadata": {},
   "outputs": [],
   "source": [
    "user1 ={'name': 'asad', 'age': 22, 'Education': 'Btech'}"
   ]
  },
  {
   "cell_type": "code",
   "execution_count": 31,
   "id": "e3737113",
   "metadata": {},
   "outputs": [],
   "source": [
    "def functn(**kwargs):\n",
    "    print(kwargs)\n",
    "    print(type(kwargs))\n",
    "    \n",
    "    "
   ]
  },
  {
   "cell_type": "code",
   "execution_count": 32,
   "id": "35ba5cb0",
   "metadata": {},
   "outputs": [
    {
     "name": "stdout",
     "output_type": "stream",
     "text": [
      "{'name': 'asad', 'age': 22, 'Education': 'Btech'}\n",
      "<class 'dict'>\n"
     ]
    }
   ],
   "source": [
    "functn(**user1)"
   ]
  },
  {
   "cell_type": "code",
   "execution_count": null,
   "id": "84decde4",
   "metadata": {},
   "outputs": [],
   "source": []
  },
  {
   "cell_type": "code",
   "execution_count": 43,
   "id": "9a04e8cf",
   "metadata": {},
   "outputs": [],
   "source": [
    "def functn(**kwargs):\n",
    "    user2 = {\n",
    "        'name': 'Naam nhi hai kya?',\n",
    "        'age': 'Umar ka kya karoge?',\n",
    "        'Education': 'nahi batana'}\n",
    "    user2.update(kwargs)\n",
    "    return user2\n",
    "    "
   ]
  },
  {
   "cell_type": "code",
   "execution_count": 45,
   "id": "04bdec2a",
   "metadata": {},
   "outputs": [
    {
     "data": {
      "text/plain": [
       "{'name': 'kartik', 'age': 'Umar ka kya karoge?', 'Education': 'nahi batana'}"
      ]
     },
     "execution_count": 45,
     "metadata": {},
     "output_type": "execute_result"
    }
   ],
   "source": [
    "functn(name ='kartik')"
   ]
  },
  {
   "cell_type": "code",
   "execution_count": null,
   "id": "85a09178",
   "metadata": {},
   "outputs": [],
   "source": []
  },
  {
   "cell_type": "code",
   "execution_count": 57,
   "id": "8f594d75",
   "metadata": {},
   "outputs": [],
   "source": [
    "def funct(**kwargs):\n",
    "    user3 = {\n",
    "        'Name': None,\n",
    "        'Age':  None,\n",
    "        'Education': None}\n",
    "    for key in kwargs.keys():\n",
    "        if key in user3.keys():\n",
    "            user3.update(kwargs)\n",
    "        else:\n",
    "            print('Sahi se likh na bhidu')\n",
    "    return user3\n",
    "    "
   ]
  },
  {
   "cell_type": "code",
   "execution_count": 59,
   "id": "28096df1",
   "metadata": {},
   "outputs": [
    {
     "name": "stdout",
     "output_type": "stream",
     "text": [
      "Sahi se likh na bhidu\n"
     ]
    },
    {
     "data": {
      "text/plain": [
       "{'Name': None, 'Age': None, 'Education': None}"
      ]
     },
     "execution_count": 59,
     "metadata": {},
     "output_type": "execute_result"
    }
   ],
   "source": [
    "funct(name = 'fzn')"
   ]
  },
  {
   "cell_type": "code",
   "execution_count": null,
   "id": "561abaa2",
   "metadata": {},
   "outputs": [],
   "source": []
  },
  {
   "cell_type": "code",
   "execution_count": 1,
   "id": "4d98ca32",
   "metadata": {},
   "outputs": [],
   "source": [
    "def func1(**kwargs):\n",
    "    user = {'Name' : None,\n",
    "            'Age' : None,\n",
    "             'Education' : None}\n",
    "    for key in kwargs.keys():\n",
    "        if key in user.keys():\n",
    "            user[key]= kwargs[key]\n",
    "    return user\n"
   ]
  },
  {
   "cell_type": "code",
   "execution_count": 2,
   "id": "41eeadf6",
   "metadata": {},
   "outputs": [
    {
     "data": {
      "text/plain": [
       "{'Name': 'seeta', 'Age': None, 'Education': 'Msc'}"
      ]
     },
     "execution_count": 2,
     "metadata": {},
     "output_type": "execute_result"
    }
   ],
   "source": [
    "func1(Name = 'seeta' , age = 23 , Education  = 'Msc')"
   ]
  },
  {
   "cell_type": "code",
   "execution_count": null,
   "id": "35cb7308",
   "metadata": {},
   "outputs": [],
   "source": []
  },
  {
   "cell_type": "code",
   "execution_count": null,
   "id": "f4544c50",
   "metadata": {},
   "outputs": [],
   "source": []
  }
 ],
 "metadata": {
  "kernelspec": {
   "display_name": "venv",
   "language": "python",
   "name": "python3"
  },
  "language_info": {
   "codemirror_mode": {
    "name": "ipython",
    "version": 3
   },
   "file_extension": ".py",
   "mimetype": "text/x-python",
   "name": "python",
   "nbconvert_exporter": "python",
   "pygments_lexer": "ipython3",
   "version": "3.13.3"
  }
 },
 "nbformat": 4,
 "nbformat_minor": 5
}
