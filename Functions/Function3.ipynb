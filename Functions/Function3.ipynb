{
 "cells": [
  {
   "cell_type": "code",
   "execution_count": 4,
   "id": "846f273a",
   "metadata": {},
   "outputs": [],
   "source": [
    "menu = {'Pizza'.lower()  : 250 , \n",
    "        'Burger'.lower() : 150 ,\n",
    "        'Sandwich'.lower() :  100 , \n",
    "        'coffee'.lower() :  40}"
   ]
  },
  {
   "cell_type": "code",
   "execution_count": 2,
   "id": "e1b9dcc9",
   "metadata": {},
   "outputs": [],
   "source": [
    "def function(**kwargs):\n",
    "    total_bill = 0\n",
    "    for food , qauntity in kwargs.items():\n",
    "        price = menu.get(food)\n",
    "        if price is not None:\n",
    "            subtotal = price* qauntity\n",
    "            print(f'bill for {food} is {subtotal}')\n",
    "            total_bill = total_bill + subtotal\n",
    "           \n",
    "    print('Total bill is ' , total_bill) "
   ]
  },
  {
   "cell_type": "code",
   "execution_count": 21,
   "id": "46f0807c",
   "metadata": {},
   "outputs": [],
   "source": [
    "@welcome\n",
    "def function(**kwargs):\n",
    "    total_bill = 0\n",
    "    for food , qauntity in kwargs.items():\n",
    "        food = food.lower()\n",
    "        price = menu.get(food)\n",
    "        if price is not None :\n",
    "            subtotal = price* qauntity\n",
    "            print(f'bill for {food} is {subtotal}')\n",
    "            total_bill = total_bill + subtotal\n",
    "        else:\n",
    "            print(f'{food} is not available')\n",
    "           \n",
    "    print('Total bill is ' , total_bill) "
   ]
  },
  {
   "cell_type": "code",
   "execution_count": 22,
   "id": "2749f43f",
   "metadata": {},
   "outputs": [
    {
     "name": "stdout",
     "output_type": "stream",
     "text": [
      "Welcome user\n",
      "Thank you for using this data\n",
      "bill for pizza is 1250\n",
      "bill for coffee is 80\n",
      "idli is not available\n",
      "Total bill is  1330\n"
     ]
    }
   ],
   "source": [
    "function(pizza = 5, Coffee=2,  idli=5)"
   ]
  },
  {
   "cell_type": "code",
   "execution_count": null,
   "id": "01928674",
   "metadata": {},
   "outputs": [],
   "source": []
  },
  {
   "cell_type": "code",
   "execution_count": 18,
   "id": "525d2d38",
   "metadata": {},
   "outputs": [],
   "source": [
    "def welcome(func):\n",
    "    def wrapper(*args, **kwargs):\n",
    "        print('Welcome user')\n",
    "        print('Thank you for using this data') \n",
    "        result = func(*args, **kwargs)\n",
    "        return result\n",
    "       \n",
    "    return wrapper"
   ]
  },
  {
   "cell_type": "code",
   "execution_count": null,
   "id": "91a4f6ca",
   "metadata": {},
   "outputs": [],
   "source": []
  },
  {
   "cell_type": "code",
   "execution_count": 19,
   "id": "8e1f2dc6",
   "metadata": {},
   "outputs": [],
   "source": [
    "@welcome\n",
    "def simple_interest(P, N, R):\n",
    "    \"\"\"p: principal amount\n",
    "    N: Number of years,\n",
    "    R: interest rate\"\"\"\n",
    "    interest = P*N*R/100\n",
    "    return interest"
   ]
  },
  {
   "cell_type": "code",
   "execution_count": 20,
   "id": "18573572",
   "metadata": {},
   "outputs": [
    {
     "name": "stdout",
     "output_type": "stream",
     "text": [
      "Welcome user\n",
      "Thank you for using this data\n"
     ]
    },
    {
     "data": {
      "text/plain": [
       "66195.08"
      ]
     },
     "execution_count": 20,
     "metadata": {},
     "output_type": "execute_result"
    }
   ],
   "source": [
    "simple_interest(472822,2,7)"
   ]
  },
  {
   "cell_type": "code",
   "execution_count": null,
   "id": "8fad8767",
   "metadata": {},
   "outputs": [],
   "source": []
  }
 ],
 "metadata": {
  "kernelspec": {
   "display_name": "venv",
   "language": "python",
   "name": "python3"
  },
  "language_info": {
   "codemirror_mode": {
    "name": "ipython",
    "version": 3
   },
   "file_extension": ".py",
   "mimetype": "text/x-python",
   "name": "python",
   "nbconvert_exporter": "python",
   "pygments_lexer": "ipython3",
   "version": "3.13.3"
  }
 },
 "nbformat": 4,
 "nbformat_minor": 5
}
